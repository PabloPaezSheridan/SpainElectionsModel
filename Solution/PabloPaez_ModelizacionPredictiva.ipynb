{
 "cells": [
  {
   "cell_type": "code",
   "execution_count": 2,
   "metadata": {},
   "outputs": [],
   "source": [
    "import os\n",
    "import pandas as pd\n",
    "import numpy as np\n",
    "import seaborn as sns\n",
    "import matplotlib.pyplot as plt\n",
    "import pickle"
   ]
  },
  {
   "cell_type": "code",
   "execution_count": 3,
   "metadata": {},
   "outputs": [],
   "source": [
    "from FuncionesMineria import(analizar_variables_categoricas, cuentaDistintos, frec_variables_num, atipicosAmissing, patron_perdidos, ImputacionCuant, ImputacionCuali)"
   ]
  },
  {
   "cell_type": "markdown",
   "metadata": {},
   "source": [
    "<h2> Preparacion de Datos </h2>"
   ]
  },
  {
   "cell_type": "markdown",
   "metadata": {},
   "source": [
    "<h3>Extraccion de datos</h3>"
   ]
  },
  {
   "cell_type": "code",
   "execution_count": 23,
   "metadata": {},
   "outputs": [
    {
     "data": {
      "text/plain": [
       "Name                             object\n",
       "CodigoProvincia                   int64\n",
       "CCAA                             object\n",
       "Population                        int64\n",
       "TotalCensus                       int64\n",
       "AbstentionPtge                  float64\n",
       "AbstencionAlta                    int64\n",
       "Izda_Pct                        float64\n",
       "Dcha_Pct                        float64\n",
       "Otros_Pct                       float64\n",
       "Izquierda                         int64\n",
       "Derecha                           int64\n",
       "Age_0-4_Ptge                    float64\n",
       "Age_under19_Ptge                float64\n",
       "Age_19_65_pct                   float64\n",
       "Age_over65_pct                  float64\n",
       "WomanPopulationPtge             float64\n",
       "ForeignersPtge                  float64\n",
       "SameComAutonPtge                float64\n",
       "SameComAutonDiffProvPtge        float64\n",
       "DifComAutonPtge                 float64\n",
       "UnemployLess25_Ptge             float64\n",
       "Unemploy25_40_Ptge              float64\n",
       "UnemployMore40_Ptge             float64\n",
       "AgricultureUnemploymentPtge     float64\n",
       "IndustryUnemploymentPtge        float64\n",
       "ConstructionUnemploymentPtge    float64\n",
       "ServicesUnemploymentPtge        float64\n",
       "totalEmpresas                   float64\n",
       "Industria                       float64\n",
       "Construccion                    float64\n",
       "ComercTTEHosteleria             float64\n",
       "Servicios                       float64\n",
       "ActividadPpal                    object\n",
       "inmuebles                       float64\n",
       "Pob2010                         float64\n",
       "SUPERFICIE                      float64\n",
       "Densidad                         object\n",
       "PobChange_pct                   float64\n",
       "PersonasInmueble                float64\n",
       "Explotaciones                     int64\n",
       "dtype: object"
      ]
     },
     "execution_count": 23,
     "metadata": {},
     "output_type": "execute_result"
    }
   ],
   "source": [
    "# Extraccion y depuracion de datos\n",
    "\n",
    "datos = pd.read_excel(\"../Statement/DatosEleccionesEspaña.xlsx\")\n",
    "datos.dtypes"
   ]
  },
  {
   "cell_type": "markdown",
   "metadata": {},
   "source": [
    "<h3>Asignar tipo de datos correctos</h3>"
   ]
  },
  {
   "cell_type": "code",
   "execution_count": 24,
   "metadata": {},
   "outputs": [],
   "source": [
    "# Asignar tipo de datos correctos\n",
    "\n",
    "colsFromFloatToInt = [\"totalEmpresas\", \"Industria\", \"Construccion\", \"ComercTTEHosteleria\", \"Servicios\", \"inmuebles\", \"Pob2010\", \"PersonasInmueble\"]\n",
    "colsFromIntToBool = [\"Izquierda\", \"Derecha\", \"AbstencionAlta\"]\n",
    "\n",
    "for c in colsFromFloatToInt:\n",
    "    datos[c] = datos[c].fillna(-1)\n",
    "    datos[c] = datos[c].astype(int)\n",
    "\n",
    "for c in colsFromFloatToInt:\n",
    "    datos[c] = datos[c].replace(-1, np.nan)\n",
    "\n",
    "for c in colsFromIntToBool:\n",
    "    datos[c] = datos[c].astype(bool)"
   ]
  },
  {
   "cell_type": "markdown",
   "metadata": {},
   "source": [
    "<h3> Analisis Descriptivo </h3>"
   ]
  },
  {
   "cell_type": "code",
   "execution_count": null,
   "metadata": {},
   "outputs": [],
   "source": [
    "print(analizar_variables_categoricas(datos))"
   ]
  },
  {
   "cell_type": "code",
   "execution_count": null,
   "metadata": {},
   "outputs": [],
   "source": [
    "# print(cuentaDistintos(datos))\n",
    "\n",
    "# print(datos.describe().T)\n",
    "\n",
    "datos[datos.columns].isna().sum()"
   ]
  },
  {
   "cell_type": "markdown",
   "metadata": {},
   "source": [
    "<h3>Tratamiento de datos incorrectos </h3>"
   ]
  },
  {
   "cell_type": "code",
   "execution_count": 31,
   "metadata": {},
   "outputs": [],
   "source": [
    "categoricas = [\"Densidad\", \"Population\", \"Name\", \"CCAA\"]\n",
    "\n",
    "for c in categoricas:\n",
    "    datos[c] = datos[c].replace('nan',np.nan)\n",
    "\n",
    "datos[\"Densidad\"] = datos[\"Densidad\"].replace('?', np.nan)"
   ]
  },
  {
   "cell_type": "code",
   "execution_count": 38,
   "metadata": {},
   "outputs": [],
   "source": [
    "porcentajes = [\n",
    "    \"WomanPopulationPtge\", \"ForeignersPtge\", \"SameComAutonPtge\", \"SameComAutonDiffProvPtge\", \"DifComAutonPtge\",\n",
    "    \"UnemployLess25_Ptge\", \"Unemploy25_40_Ptge\", \"UnemployMore40_Ptge\", \"AgricultureUnemploymentPtge\", \"IndustryUnemploymentPtge\",\n",
    "    \"ConstructionUnemploymentPtge\", \"ServicesUnemploymentPtge\", \"AbstentionPtge\", \"Izda_Pct\", \"Dcha_Pct\", \"Otros_Pct\", \"Age_0-4_Ptge\",\n",
    "    \"Age_under19_Ptge\", \"Age_19_65_pct\", \"Age_over65_pct\",\"PobChange_pct\"]\n",
    "\n",
    "for c in porcentajes:\n",
    "    datos[c] = [x if 0 <= x <= 100 else np.nan for x in datos[c]]"
   ]
  },
  {
   "cell_type": "code",
   "execution_count": 37,
   "metadata": {},
   "outputs": [],
   "source": [
    "\n",
    "datos[\"ActividadPpal\"] = datos[\"ActividadPpal\"].replace([\"Otro\"], \"Otros\")\n"
   ]
  }
 ],
 "metadata": {
  "kernelspec": {
   "display_name": "mineria_de_datos_ucm",
   "language": "python",
   "name": "python3"
  },
  "language_info": {
   "codemirror_mode": {
    "name": "ipython",
    "version": 3
   },
   "file_extension": ".py",
   "mimetype": "text/x-python",
   "name": "python",
   "nbconvert_exporter": "python",
   "pygments_lexer": "ipython3",
   "version": "3.8.20"
  }
 },
 "nbformat": 4,
 "nbformat_minor": 2
}
