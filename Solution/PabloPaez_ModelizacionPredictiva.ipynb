{
 "cells": [
  {
   "cell_type": "code",
   "execution_count": 2,
   "metadata": {},
   "outputs": [],
   "source": [
    "import os\n",
    "import pandas as pd\n",
    "import numpy as np\n",
    "import seaborn as sns\n",
    "import matplotlib.pyplot as plt\n",
    "import pickle"
   ]
  },
  {
   "cell_type": "code",
   "execution_count": 3,
   "metadata": {},
   "outputs": [],
   "source": [
    "from FuncionesMineria import(analizar_variables_categoricas, cuentaDistintos, frec_variables_num, atipicosAmissing, patron_perdidos, ImputacionCuant, ImputacionCuali)"
   ]
  },
  {
   "cell_type": "markdown",
   "metadata": {},
   "source": [
    "<h2> Preparacion de Datos </h2>"
   ]
  },
  {
   "cell_type": "markdown",
   "metadata": {},
   "source": [
    "<h3>Extraccion de datos</h3>"
   ]
  },
  {
   "cell_type": "code",
   "execution_count": 4,
   "metadata": {},
   "outputs": [
    {
     "data": {
      "text/plain": [
       "Name                             object\n",
       "CodigoProvincia                   int64\n",
       "CCAA                             object\n",
       "Population                        int64\n",
       "TotalCensus                       int64\n",
       "AbstentionPtge                  float64\n",
       "AbstencionAlta                    int64\n",
       "Izda_Pct                        float64\n",
       "Dcha_Pct                        float64\n",
       "Otros_Pct                       float64\n",
       "Izquierda                         int64\n",
       "Derecha                           int64\n",
       "Age_0-4_Ptge                    float64\n",
       "Age_under19_Ptge                float64\n",
       "Age_19_65_pct                   float64\n",
       "Age_over65_pct                  float64\n",
       "WomanPopulationPtge             float64\n",
       "ForeignersPtge                  float64\n",
       "SameComAutonPtge                float64\n",
       "SameComAutonDiffProvPtge        float64\n",
       "DifComAutonPtge                 float64\n",
       "UnemployLess25_Ptge             float64\n",
       "Unemploy25_40_Ptge              float64\n",
       "UnemployMore40_Ptge             float64\n",
       "AgricultureUnemploymentPtge     float64\n",
       "IndustryUnemploymentPtge        float64\n",
       "ConstructionUnemploymentPtge    float64\n",
       "ServicesUnemploymentPtge        float64\n",
       "totalEmpresas                   float64\n",
       "Industria                       float64\n",
       "Construccion                    float64\n",
       "ComercTTEHosteleria             float64\n",
       "Servicios                       float64\n",
       "ActividadPpal                    object\n",
       "inmuebles                       float64\n",
       "Pob2010                         float64\n",
       "SUPERFICIE                      float64\n",
       "Densidad                         object\n",
       "PobChange_pct                   float64\n",
       "PersonasInmueble                float64\n",
       "Explotaciones                     int64\n",
       "dtype: object"
      ]
     },
     "execution_count": 4,
     "metadata": {},
     "output_type": "execute_result"
    }
   ],
   "source": [
    "# Extraccion y depuracion de datos\n",
    "\n",
    "datos = pd.read_excel(\"../Statement/DatosEleccionesEspaña.xlsx\")\n",
    "datos.dtypes"
   ]
  },
  {
   "cell_type": "markdown",
   "metadata": {},
   "source": [
    "<h3>Asignar tipo de datos correctos</h3>"
   ]
  },
  {
   "cell_type": "code",
   "execution_count": 15,
   "metadata": {},
   "outputs": [],
   "source": [
    "# Asignar tipo de datos correctos\n",
    "\n",
    "colsFromFloatToInt = [\"totalEmpresas\", \"Industria\", \"Construccion\", \"ComercTTEHosteleria\", \"Servicios\", \"inmuebles\", \"Pob2010\", \"PersonasInmueble\"]\n",
    "colsFromIntToBool = [\"Izquierda\", \"Derecha\", \"AbstencionAlta\"]\n",
    "\n",
    "for c in colsFromFloatToInt:\n",
    "    datos[c] = datos[c].fillna(-1)\n",
    "    datos[c] = datos[c].astype(int)\n",
    "\n",
    "for c in colsFromFloatToInt:\n",
    "    datos[c] = datos[c].replace(-1, np.nan)\n",
    "\n",
    "for c in colsFromIntToBool:\n",
    "    datos[c] = datos[c].astype(bool)"
   ]
  },
  {
   "cell_type": "markdown",
   "metadata": {},
   "source": [
    "<h3> Analisis Descriptivo </h3>"
   ]
  },
  {
   "cell_type": "code",
   "execution_count": 10,
   "metadata": {},
   "outputs": [
    {
     "name": "stdout",
     "output_type": "stream",
     "text": [
      "{'Name':                    n         %\n",
      "Name                          \n",
      "Mieres             2  0.000246\n",
      "Cieza              2  0.000246\n",
      "Moya               2  0.000246\n",
      "Rebollar           2  0.000246\n",
      "Villaescusa        2  0.000246\n",
      "...               ..       ...\n",
      "Muras              1  0.000123\n",
      "Monterroso         1  0.000123\n",
      "Monforte de Lemos  1  0.000123\n",
      "Mondoñedo          1  0.000123\n",
      "Zuñeda             1  0.000123\n",
      "\n",
      "[8100 rows x 2 columns], 'CCAA':                    n         %\n",
      "CCAA                          \n",
      "CastillaLeón    2248  0.276950\n",
      "Cataluña         947  0.116669\n",
      "CastillaMancha   919  0.113219\n",
      "Andalucía        773  0.095232\n",
      "Aragón           731  0.090058\n",
      "ComValenciana    542  0.066773\n",
      "Extremadura      387  0.047678\n",
      "Galicia          314  0.038684\n",
      "Navarra          272  0.033510\n",
      "PaísVasco        251  0.030923\n",
      "Madrid           179  0.022052\n",
      "Rioja            174  0.021436\n",
      "Cantabria        102  0.012566\n",
      "Canarias          88  0.010841\n",
      "Asturias          78  0.009609\n",
      "Baleares          67  0.008254\n",
      "Murcia            45  0.005544, 'AbstencionAlta':                    n         %\n",
      "AbstencionAlta                \n",
      "False           5591  0.688801\n",
      "True            2526  0.311199, 'Izquierda':               n         %\n",
      "Izquierda                \n",
      "False      6308  0.777134\n",
      "True       1809  0.222866, 'Derecha':             n         %\n",
      "Derecha                \n",
      "True     5041  0.621042\n",
      "False    3076  0.378958, 'ActividadPpal':                         n         %\n",
      "ActividadPpal                      \n",
      "Otro                 4932  0.607614\n",
      "ComercTTEHosteleria  2538  0.312677\n",
      "Servicios             620  0.076383\n",
      "Construccion           14  0.001725\n",
      "Industria              13  0.001602, 'Densidad':              n         %\n",
      "Densidad                \n",
      "MuyBaja   6416  0.790440\n",
      "Baja      1053  0.129728\n",
      "Alta       556  0.068498\n",
      "?           92  0.011334}\n"
     ]
    }
   ],
   "source": [
    "print(analizar_variables_categoricas(datos))"
   ]
  },
  {
   "cell_type": "code",
   "execution_count": 14,
   "metadata": {},
   "outputs": [
    {
     "data": {
      "text/plain": [
       "Name                            0\n",
       "CodigoProvincia                 0\n",
       "CCAA                            0\n",
       "Population                      0\n",
       "TotalCensus                     0\n",
       "AbstentionPtge                  0\n",
       "AbstencionAlta                  0\n",
       "Izda_Pct                        0\n",
       "Dcha_Pct                        0\n",
       "Otros_Pct                       0\n",
       "Izquierda                       0\n",
       "Derecha                         0\n",
       "Age_0-4_Ptge                    0\n",
       "Age_under19_Ptge                0\n",
       "Age_19_65_pct                   0\n",
       "Age_over65_pct                  0\n",
       "WomanPopulationPtge             0\n",
       "ForeignersPtge                  0\n",
       "SameComAutonPtge                0\n",
       "SameComAutonDiffProvPtge        0\n",
       "DifComAutonPtge                 0\n",
       "UnemployLess25_Ptge             0\n",
       "Unemploy25_40_Ptge              0\n",
       "UnemployMore40_Ptge             0\n",
       "AgricultureUnemploymentPtge     0\n",
       "IndustryUnemploymentPtge        0\n",
       "ConstructionUnemploymentPtge    0\n",
       "ServicesUnemploymentPtge        0\n",
       "totalEmpresas                   0\n",
       "Industria                       0\n",
       "Construccion                    0\n",
       "ComercTTEHosteleria             0\n",
       "Servicios                       0\n",
       "ActividadPpal                   0\n",
       "inmuebles                       0\n",
       "Pob2010                         0\n",
       "SUPERFICIE                      8\n",
       "Densidad                        0\n",
       "PobChange_pct                   7\n",
       "PersonasInmueble                0\n",
       "Explotaciones                   0\n",
       "dtype: int64"
      ]
     },
     "execution_count": 14,
     "metadata": {},
     "output_type": "execute_result"
    }
   ],
   "source": [
    "# print(cuentaDistintos(datos))\n",
    "\n",
    "# print(datos.describe().T)\n",
    "\n",
    "datos[datos.columns].isna().sum()"
   ]
  }
 ],
 "metadata": {
  "kernelspec": {
   "display_name": "mineria_de_datos_ucm",
   "language": "python",
   "name": "python3"
  },
  "language_info": {
   "codemirror_mode": {
    "name": "ipython",
    "version": 3
   },
   "file_extension": ".py",
   "mimetype": "text/x-python",
   "name": "python",
   "nbconvert_exporter": "python",
   "pygments_lexer": "ipython3",
   "version": "3.8.20"
  }
 },
 "nbformat": 4,
 "nbformat_minor": 2
}
