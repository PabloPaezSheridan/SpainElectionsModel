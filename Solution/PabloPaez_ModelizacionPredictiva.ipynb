{
 "cells": [
  {
   "cell_type": "code",
   "execution_count": 46,
   "metadata": {},
   "outputs": [],
   "source": [
    "import os\n",
    "import pandas as pd\n",
    "import numpy as np\n",
    "import seaborn as sns\n",
    "import matplotlib.pyplot as plt\n",
    "import pickle"
   ]
  },
  {
   "cell_type": "code",
   "execution_count": 47,
   "metadata": {},
   "outputs": [],
   "source": [
    "from FuncionesMineria import(analizar_variables_categoricas, cuentaDistintos, frec_variables_num, atipicosAmissing, patron_perdidos, ImputacionCuant, ImputacionCuali)"
   ]
  },
  {
   "cell_type": "markdown",
   "metadata": {},
   "source": [
    "<h2> Preparacion de Datos </h2>"
   ]
  },
  {
   "cell_type": "markdown",
   "metadata": {},
   "source": [
    "<h3>Extraccion de datos</h3>"
   ]
  },
  {
   "cell_type": "code",
   "execution_count": null,
   "metadata": {},
   "outputs": [
    {
     "data": {
      "text/plain": [
       "Name                             object\n",
       "CodigoProvincia                   int64\n",
       "CCAA                             object\n",
       "Population                        int64\n",
       "TotalCensus                       int64\n",
       "AbstentionPtge                  float64\n",
       "AbstencionAlta                    int64\n",
       "Izda_Pct                        float64\n",
       "Dcha_Pct                        float64\n",
       "Otros_Pct                       float64\n",
       "Izquierda                         int64\n",
       "Derecha                           int64\n",
       "Age_0-4_Ptge                    float64\n",
       "Age_under19_Ptge                float64\n",
       "Age_19_65_pct                   float64\n",
       "Age_over65_pct                  float64\n",
       "WomanPopulationPtge             float64\n",
       "ForeignersPtge                  float64\n",
       "SameComAutonPtge                float64\n",
       "SameComAutonDiffProvPtge        float64\n",
       "DifComAutonPtge                 float64\n",
       "UnemployLess25_Ptge             float64\n",
       "Unemploy25_40_Ptge              float64\n",
       "UnemployMore40_Ptge             float64\n",
       "AgricultureUnemploymentPtge     float64\n",
       "IndustryUnemploymentPtge        float64\n",
       "ConstructionUnemploymentPtge    float64\n",
       "ServicesUnemploymentPtge        float64\n",
       "totalEmpresas                   float64\n",
       "Industria                       float64\n",
       "Construccion                    float64\n",
       "ComercTTEHosteleria             float64\n",
       "Servicios                       float64\n",
       "ActividadPpal                    object\n",
       "inmuebles                       float64\n",
       "Pob2010                         float64\n",
       "SUPERFICIE                      float64\n",
       "Densidad                         object\n",
       "PobChange_pct                   float64\n",
       "PersonasInmueble                float64\n",
       "Explotaciones                     int64\n",
       "dtype: object"
      ]
     },
     "execution_count": 86,
     "metadata": {},
     "output_type": "execute_result"
    }
   ],
   "source": [
    "datos = pd.read_excel(\"../Statement/DatosEleccionesEspaña.xlsx\")\n",
    "datos.dtypes"
   ]
  },
  {
   "cell_type": "markdown",
   "metadata": {},
   "source": [
    "<h3>Asignar tipo de datos correctos</h3>"
   ]
  },
  {
   "cell_type": "code",
   "execution_count": 87,
   "metadata": {},
   "outputs": [],
   "source": [
    "# Asignar tipo de datos correctos\n",
    "\n",
    "colsFromFloatToInt = [\"totalEmpresas\", \"Industria\", \"Construccion\", \"ComercTTEHosteleria\", \"Servicios\", \"inmuebles\", \"Pob2010\", \"PersonasInmueble\"]\n",
    "colsFromIntToBool = [\"Izquierda\", \"Derecha\", \"AbstencionAlta\"]\n",
    "\n",
    "for c in colsFromFloatToInt:\n",
    "    datos[c] = datos[c].fillna(-1)\n",
    "    datos[c] = datos[c].astype(int)\n",
    "\n",
    "for c in colsFromFloatToInt:\n",
    "    datos[c] = datos[c].replace(-1, np.nan)\n",
    "\n",
    "for c in colsFromIntToBool:\n",
    "    datos[c] = datos[c].astype(bool)"
   ]
  },
  {
   "cell_type": "markdown",
   "metadata": {},
   "source": [
    "<h3> Analisis Descriptivo </h3>"
   ]
  },
  {
   "cell_type": "code",
   "execution_count": 50,
   "metadata": {},
   "outputs": [
    {
     "name": "stdout",
     "output_type": "stream",
     "text": [
      "{'Name':                    n         %\n",
      "Name                          \n",
      "Mieres             2  0.000246\n",
      "Cieza              2  0.000246\n",
      "Moya               2  0.000246\n",
      "Rebollar           2  0.000246\n",
      "Villaescusa        2  0.000246\n",
      "...               ..       ...\n",
      "Muras              1  0.000123\n",
      "Monterroso         1  0.000123\n",
      "Monforte de Lemos  1  0.000123\n",
      "Mondoñedo          1  0.000123\n",
      "Zuñeda             1  0.000123\n",
      "\n",
      "[8100 rows x 2 columns], 'CCAA':                    n         %\n",
      "CCAA                          \n",
      "CastillaLeón    2248  0.276950\n",
      "Cataluña         947  0.116669\n",
      "CastillaMancha   919  0.113219\n",
      "Andalucía        773  0.095232\n",
      "Aragón           731  0.090058\n",
      "ComValenciana    542  0.066773\n",
      "Extremadura      387  0.047678\n",
      "Galicia          314  0.038684\n",
      "Navarra          272  0.033510\n",
      "PaísVasco        251  0.030923\n",
      "Madrid           179  0.022052\n",
      "Rioja            174  0.021436\n",
      "Cantabria        102  0.012566\n",
      "Canarias          88  0.010841\n",
      "Asturias          78  0.009609\n",
      "Baleares          67  0.008254\n",
      "Murcia            45  0.005544, 'AbstencionAlta':                    n         %\n",
      "AbstencionAlta                \n",
      "False           5591  0.688801\n",
      "True            2526  0.311199, 'Izquierda':               n         %\n",
      "Izquierda                \n",
      "False      6308  0.777134\n",
      "True       1809  0.222866, 'Derecha':             n         %\n",
      "Derecha                \n",
      "True     5041  0.621042\n",
      "False    3076  0.378958, 'ActividadPpal':                         n         %\n",
      "ActividadPpal                      \n",
      "Otro                 4932  0.607614\n",
      "ComercTTEHosteleria  2538  0.312677\n",
      "Servicios             620  0.076383\n",
      "Construccion           14  0.001725\n",
      "Industria              13  0.001602, 'Densidad':              n         %\n",
      "Densidad                \n",
      "MuyBaja   6416  0.790440\n",
      "Baja      1053  0.129728\n",
      "Alta       556  0.068498\n",
      "?           92  0.011334}\n"
     ]
    }
   ],
   "source": [
    "print(analizar_variables_categoricas(datos))"
   ]
  },
  {
   "cell_type": "code",
   "execution_count": 51,
   "metadata": {},
   "outputs": [
    {
     "data": {
      "text/plain": [
       "Name                              0\n",
       "CodigoProvincia                   0\n",
       "CCAA                              0\n",
       "Population                        0\n",
       "TotalCensus                       0\n",
       "AbstentionPtge                    0\n",
       "AbstencionAlta                    0\n",
       "Izda_Pct                          0\n",
       "Dcha_Pct                          0\n",
       "Otros_Pct                         0\n",
       "Izquierda                         0\n",
       "Derecha                           0\n",
       "Age_0-4_Ptge                      0\n",
       "Age_under19_Ptge                  0\n",
       "Age_19_65_pct                     0\n",
       "Age_over65_pct                    0\n",
       "WomanPopulationPtge               0\n",
       "ForeignersPtge                    0\n",
       "SameComAutonPtge                  0\n",
       "SameComAutonDiffProvPtge          0\n",
       "DifComAutonPtge                   0\n",
       "UnemployLess25_Ptge               0\n",
       "Unemploy25_40_Ptge                0\n",
       "UnemployMore40_Ptge               0\n",
       "AgricultureUnemploymentPtge       0\n",
       "IndustryUnemploymentPtge          0\n",
       "ConstructionUnemploymentPtge      0\n",
       "ServicesUnemploymentPtge          0\n",
       "totalEmpresas                     5\n",
       "Industria                       188\n",
       "Construccion                    139\n",
       "ComercTTEHosteleria               9\n",
       "Servicios                        62\n",
       "ActividadPpal                     0\n",
       "inmuebles                       138\n",
       "Pob2010                           7\n",
       "SUPERFICIE                        8\n",
       "Densidad                          0\n",
       "PobChange_pct                     7\n",
       "PersonasInmueble                138\n",
       "Explotaciones                     0\n",
       "dtype: int64"
      ]
     },
     "execution_count": 51,
     "metadata": {},
     "output_type": "execute_result"
    }
   ],
   "source": [
    "# print(cuentaDistintos(datos))\n",
    "\n",
    "# print(datos.describe().T)\n",
    "\n",
    "datos[datos.columns].isna().sum()"
   ]
  },
  {
   "cell_type": "markdown",
   "metadata": {},
   "source": [
    "<h3>Tratamiento de datos incorrectos </h3>"
   ]
  },
  {
   "cell_type": "code",
   "execution_count": 88,
   "metadata": {},
   "outputs": [],
   "source": [
    "categoricas = [\"Densidad\", \"Population\", \"Name\", \"CCAA\"]\n",
    "\n",
    "for c in categoricas:\n",
    "    datos[c] = datos[c].replace('nan',np.nan)\n",
    "\n",
    "datos[\"Densidad\"] = datos[\"Densidad\"].replace('?', np.nan)"
   ]
  },
  {
   "cell_type": "markdown",
   "metadata": {},
   "source": [
    "Vamos a tratar a las variables que representan porcentajes para poner como valor perdido cualquier observacion por fuera del rango de un porcentaje (0-100) la unica excepcion es la variable \"PobChange_pct\" ya que explicitamente esta explicado que los valores negativos aportan informacion"
   ]
  },
  {
   "cell_type": "markdown",
   "metadata": {},
   "source": []
  },
  {
   "cell_type": "code",
   "execution_count": 89,
   "metadata": {},
   "outputs": [],
   "source": [
    "porcentajes = [\n",
    "    \"WomanPopulationPtge\", \"ForeignersPtge\", \"SameComAutonPtge\", \"SameComAutonDiffProvPtge\", \"DifComAutonPtge\",\n",
    "    \"UnemployLess25_Ptge\", \"Unemploy25_40_Ptge\", \"UnemployMore40_Ptge\", \"AgricultureUnemploymentPtge\", \"IndustryUnemploymentPtge\",\n",
    "    \"ConstructionUnemploymentPtge\", \"ServicesUnemploymentPtge\", \"AbstentionPtge\", \"Izda_Pct\", \"Dcha_Pct\", \"Otros_Pct\", \"Age_0-4_Ptge\",\n",
    "    \"Age_under19_Ptge\", \"Age_19_65_pct\", \"Age_over65_pct\"]\n",
    "\n",
    "for c in porcentajes:\n",
    "    datos[c] = [x if 0 <= x <= 100 else np.nan for x in datos[c]]"
   ]
  },
  {
   "cell_type": "code",
   "execution_count": 90,
   "metadata": {},
   "outputs": [],
   "source": [
    "\n",
    "datos[\"ActividadPpal\"] = datos[\"ActividadPpal\"].replace([\"Otro\"], \"Otros\")\n"
   ]
  },
  {
   "cell_type": "markdown",
   "metadata": {},
   "source": [
    "<h3>Eliminar variables objetivo y codificadora</h3>\n",
    "\n",
    "<ul>\n",
    "    <li>Izda Pct: Porcentaje de votos a partidos de izquierda (PSOE y Podemos) </li>\n",
    "    <li>Izquierda: Variable dicotómica que toma el valor 1 si la suma de los votos de izquierdas es superior a la de derechas y otros y, 0, en otro caso. </li>\n",
    "</ul>"
   ]
  },
  {
   "cell_type": "code",
   "execution_count": 91,
   "metadata": {},
   "outputs": [],
   "source": [
    "varObjIzdaPct = datos[\"Izda_Pct\"]\n",
    "varObjIzquierda = datos[\"Izquierda\"]\n",
    "\n",
    "datos_input = datos.drop([\"Izda_Pct\", \"Izquierda\", \"Name\"], axis=1)"
   ]
  },
  {
   "cell_type": "markdown",
   "metadata": {},
   "source": [
    "<h3>Analisis de valores atipicos y perdidos</h3>"
   ]
  },
  {
   "cell_type": "code",
   "execution_count": 92,
   "metadata": {},
   "outputs": [],
   "source": [
    "numericas_input = datos_input.select_dtypes(include=['int', 'int32', 'int64', 'float', 'float32', 'float64']).columns\n",
    "categoricas_input = [variable for variable in list(datos_input.columns) if variable not in numericas_input]"
   ]
  },
  {
   "cell_type": "markdown",
   "metadata": {},
   "source": [
    "calculamos porcentaje de atipicos de cada una de las variables continuas en el conjunto de datos."
   ]
  },
  {
   "cell_type": "code",
   "execution_count": 93,
   "metadata": {},
   "outputs": [],
   "source": [
    "pctAtipicosContinuas = {x: atipicosAmissing(datos_input[x])[1]/len(datos_input) for x in numericas_input}"
   ]
  },
  {
   "cell_type": "markdown",
   "metadata": {},
   "source": [
    "<p>analizando el resultado observamos que las unicas que presentan valores atipicoss algo significativos es son la variable \"Otros_Pct\"(10.3%), la variable \"Population\"(9.9%) y \"TotalCensus\" (9.6%)</p>\n",
    "\n",
    "<p>Vamos a proceder a pasar los valores atipicos a valores perdidos</p>"
   ]
  },
  {
   "cell_type": "code",
   "execution_count": 95,
   "metadata": {},
   "outputs": [],
   "source": [
    "for x in numericas_input:\n",
    "    datos_input[x] = atipicosAmissing(datos_input[x])[0]"
   ]
  },
  {
   "cell_type": "markdown",
   "metadata": {},
   "source": [
    "Vamos a analizar la proporocion de datos perdidos en cada una de las variables de nuestro conjunto de datos"
   ]
  },
  {
   "cell_type": "code",
   "execution_count": 98,
   "metadata": {},
   "outputs": [],
   "source": [
    "propMissingPorVariable = datos_input.isna().sum()/len(datos_input)\n"
   ]
  },
  {
   "cell_type": "markdown",
   "metadata": {},
   "source": [
    "en este punto podemos observar gran parte de las que presentan un cierto porcentaje significativo de valores perdidos son las tres que ya habiamos observados que tenian valores atipicos y los habiamos transformado a valores perdidos.\n",
    "\n",
    "Tambien podemos observar que se han sumado una mas \"ForeignersPtge\" con el 8%\n",
    "\n",
    "vamos a analizar ahora la cantidad de valores perdidos para cada observacion, para hacer eso extraemos los estadisticos de la proporcion de datos perdidos para las obsevaciones "
   ]
  },
  {
   "cell_type": "code",
   "execution_count": 71,
   "metadata": {},
   "outputs": [
    {
     "data": {
      "text/plain": [
       "count    8117.000000\n",
       "mean        0.034597\n",
       "std         0.024931\n",
       "min         0.000000\n",
       "25%         0.025641\n",
       "50%         0.025641\n",
       "75%         0.051282\n",
       "max         0.282051\n",
       "Name: props_missings, dtype: float64"
      ]
     },
     "execution_count": 71,
     "metadata": {},
     "output_type": "execute_result"
    }
   ],
   "source": [
    "datos_input['props_missings'] = datos_input.isna().mean(axis=1)\n",
    "datos_input['props_missings'].describe()"
   ]
  },
  {
   "cell_type": "markdown",
   "metadata": {},
   "source": [
    "de esta informacion concluimos que la media de datos perdidos por observacion es del 3% la observacion que mas variable perdidas tiene presenta el 28% de variables perdidas por lo que concluimos que no hace falta eliminar ninguna observacion ya que todas aportan una cantidad significativa de informacion"
   ]
  },
  {
   "cell_type": "markdown",
   "metadata": {},
   "source": [
    "<h3> Tratamiento de valores atipicos o perdidos </h3>"
   ]
  },
  {
   "cell_type": "markdown",
   "metadata": {},
   "source": [
    "Las variables categoricas casi no presentan valores perdidos pero para evitar que los pocos que hayan provoquen distorision en la estimacion de la variable objetivo vamos a asignarle valores aleatorios.\n",
    "\n",
    "En el caso de las variables numericas existen varias con algun porcentaje significativo de valores perdidos, para no perder la distribucion que originalmente presentan tambien vamos a otrgarle valores aleatorios. "
   ]
  },
  {
   "cell_type": "code",
   "execution_count": 99,
   "metadata": {},
   "outputs": [
    {
     "data": {
      "text/plain": [
       "CodigoProvincia                 0\n",
       "CCAA                            0\n",
       "Population                      0\n",
       "TotalCensus                     0\n",
       "AbstentionPtge                  0\n",
       "AbstencionAlta                  0\n",
       "Dcha_Pct                        0\n",
       "Otros_Pct                       0\n",
       "Derecha                         0\n",
       "Age_0-4_Ptge                    0\n",
       "Age_under19_Ptge                0\n",
       "Age_19_65_pct                   0\n",
       "Age_over65_pct                  0\n",
       "WomanPopulationPtge             0\n",
       "ForeignersPtge                  0\n",
       "SameComAutonPtge                0\n",
       "SameComAutonDiffProvPtge        0\n",
       "DifComAutonPtge                 0\n",
       "UnemployLess25_Ptge             0\n",
       "Unemploy25_40_Ptge              0\n",
       "UnemployMore40_Ptge             0\n",
       "AgricultureUnemploymentPtge     0\n",
       "IndustryUnemploymentPtge        0\n",
       "ConstructionUnemploymentPtge    0\n",
       "ServicesUnemploymentPtge        0\n",
       "totalEmpresas                   0\n",
       "Industria                       0\n",
       "Construccion                    0\n",
       "ComercTTEHosteleria             0\n",
       "Servicios                       0\n",
       "ActividadPpal                   0\n",
       "inmuebles                       0\n",
       "Pob2010                         0\n",
       "SUPERFICIE                      0\n",
       "Densidad                        0\n",
       "PobChange_pct                   0\n",
       "PersonasInmueble                0\n",
       "Explotaciones                   0\n",
       "dtype: int64"
      ]
     },
     "execution_count": 99,
     "metadata": {},
     "output_type": "execute_result"
    }
   ],
   "source": [
    "for x in numericas_input:\n",
    "    datos_input[x] = ImputacionCuant(datos_input[x], 'aleatorio')\n",
    "\n",
    "for x in categoricas_input:\n",
    "    datos_input[x] = ImputacionCuali(datos_input[x], 'aleatorio')\n",
    "\n",
    "datos_input.isna().sum()"
   ]
  },
  {
   "cell_type": "markdown",
   "metadata": {},
   "source": [
    "Al finalizar la depuracion guardamos los datos en nuevo fichero para tenerlo listo para trabajar sobre el conservando las fuentes de datos originales por si queremos volver para atras en alguna de las tareas que hicimos para depurar por algun error que hayamos cometido en el proceso"
   ]
  },
  {
   "cell_type": "code",
   "execution_count": 100,
   "metadata": {},
   "outputs": [],
   "source": [
    "datosEleccionesEspañaDep = pd.concat([varObjIzquierda, varObjIzdaPct, datos_input], axis=1)\n",
    "with open('datosEleccionesEspañaDep.pickle', 'wb') as archivo:\n",
    "    pickle.dump(datosEleccionesEspañaDep, archivo)"
   ]
  }
 ],
 "metadata": {
  "kernelspec": {
   "display_name": "mineria_de_datos_ucm",
   "language": "python",
   "name": "python3"
  },
  "language_info": {
   "codemirror_mode": {
    "name": "ipython",
    "version": 3
   },
   "file_extension": ".py",
   "mimetype": "text/x-python",
   "name": "python",
   "nbconvert_exporter": "python",
   "pygments_lexer": "ipython3",
   "version": "3.8.20"
  }
 },
 "nbformat": 4,
 "nbformat_minor": 2
}
